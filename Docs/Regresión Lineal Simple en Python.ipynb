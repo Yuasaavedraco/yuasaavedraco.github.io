{
 "cells": [
  {
   "cell_type": "markdown",
   "metadata": {},
   "source": [
    "## Pasos para realizar una regresión lineal simple en Python\n",
    "\n",
    "**1). Importar los siguientes módulos o paquetes:**\n",
    "\n",
    "Éstos son necesarios para realizar la regresión lineal."
   ]
  },
  {
   "cell_type": "code",
   "execution_count": 8,
   "metadata": {},
   "outputs": [],
   "source": [
    "import pandas as pd                         # Este proporciona una estructura similiar a los data.frame\n",
    "import statsmodels.api as sm                # Este proporciona funciones para la estimación de muchos modelos estadísticos\n",
    "import statsmodels.formula.api as smf       # Permite ajustar modelos estadísticos utilizando fórmulas de estilo R\n",
    "import matplotlib.pyplot as plt             # Permite la generación de gráficos"
   ]
  },
  {
   "cell_type": "markdown",
   "metadata": {},
   "source": [
    "**2). Leer la base de datos:**\n",
    "\n",
    "Para esto, se usará la función **read_csv** del paquete **pandas**."
   ]
  },
  {
   "cell_type": "code",
   "execution_count": 9,
   "metadata": {},
   "outputs": [],
   "source": [
    "file = 'https://raw.githubusercontent.com/fhernanb/Python-para-estadistica/master/03%20Regression/Regresi%C3%B3n%20lineal%20simple/softdrink.csv'\n",
    "dt = pd.read_csv(file)"
   ]
  },
  {
   "cell_type": "markdown",
   "metadata": {},
   "source": [
    "**3). Estructura y primeras observaciones de la base de datos:**\n",
    "\n",
    "En este paso, se debe observar el conjunto de datos importados, con el fin de familiarizarse con las características esenciales de los datos. "
   ]
  },
  {
   "cell_type": "code",
   "execution_count": 34,
   "metadata": {
    "scrolled": true
   },
   "outputs": [
    {
     "data": {
      "text/html": [
       "<div>\n",
       "<style scoped>\n",
       "    .dataframe tbody tr th:only-of-type {\n",
       "        vertical-align: middle;\n",
       "    }\n",
       "\n",
       "    .dataframe tbody tr th {\n",
       "        vertical-align: top;\n",
       "    }\n",
       "\n",
       "    .dataframe thead th {\n",
       "        text-align: right;\n",
       "    }\n",
       "</style>\n",
       "<table border=\"1\" class=\"dataframe\">\n",
       "  <thead>\n",
       "    <tr style=\"text-align: right;\">\n",
       "      <th></th>\n",
       "      <th>Obs</th>\n",
       "      <th>y</th>\n",
       "      <th>x1</th>\n",
       "      <th>x2</th>\n",
       "    </tr>\n",
       "  </thead>\n",
       "  <tbody>\n",
       "    <tr>\n",
       "      <th>0</th>\n",
       "      <td>1</td>\n",
       "      <td>16.68</td>\n",
       "      <td>7</td>\n",
       "      <td>560</td>\n",
       "    </tr>\n",
       "    <tr>\n",
       "      <th>1</th>\n",
       "      <td>2</td>\n",
       "      <td>11.50</td>\n",
       "      <td>3</td>\n",
       "      <td>220</td>\n",
       "    </tr>\n",
       "    <tr>\n",
       "      <th>2</th>\n",
       "      <td>3</td>\n",
       "      <td>12.03</td>\n",
       "      <td>3</td>\n",
       "      <td>340</td>\n",
       "    </tr>\n",
       "    <tr>\n",
       "      <th>3</th>\n",
       "      <td>4</td>\n",
       "      <td>14.88</td>\n",
       "      <td>4</td>\n",
       "      <td>80</td>\n",
       "    </tr>\n",
       "    <tr>\n",
       "      <th>4</th>\n",
       "      <td>5</td>\n",
       "      <td>13.75</td>\n",
       "      <td>6</td>\n",
       "      <td>150</td>\n",
       "    </tr>\n",
       "  </tbody>\n",
       "</table>\n",
       "</div>"
      ],
      "text/plain": [
       "   Obs      y  x1   x2\n",
       "0    1  16.68   7  560\n",
       "1    2  11.50   3  220\n",
       "2    3  12.03   3  340\n",
       "3    4  14.88   4   80\n",
       "4    5  13.75   6  150"
      ]
     },
     "execution_count": 34,
     "metadata": {},
     "output_type": "execute_result"
    }
   ],
   "source": [
    "dt.head()                  # Sirve para mostrar la parte inicial de los datos \n",
    "                           # dt.head(15) muestra las 15 primeras observaciones\n",
    "                           # (Existen más funciones importantes y complementarias para ésto)"
   ]
  },
  {
   "cell_type": "markdown",
   "metadata": {},
   "source": [
    "**4). Diagrama de dispersión:**\n",
    "\n",
    "Éste gráfico ayuda a analizar la forma en la que dos variables numéricas están relacionadas. (Es opcional, pero útil)."
   ]
  },
  {
   "cell_type": "code",
   "execution_count": 37,
   "metadata": {},
   "outputs": [
    {
     "data": {
      "image/png": "[encoded data removed]",
      "text/plain": [
       "<Figure size 432x288 with 1 Axes>"
      ]
     },
     "metadata": {
      "needs_background": "light"
     },
     "output_type": "display_data"
    }
   ],
   "source": [
    "dt.plot(kind='scatter', x='x1', y='y');"
   ]
  },
  {
   "cell_type": "markdown",
   "metadata": {},
   "source": [
    "**5). Crear el modelo de regresión:**\n",
    "\n",
    "Para ésto, se usa **statsmodels.api**."
   ]
  },
  {
   "cell_type": "code",
   "execution_count": 42,
   "metadata": {},
   "outputs": [],
   "source": [
    "X = dt[\"x1\"]                           # X: usualmente significa nuestras variables de entrada (o variables independientes)\n",
    "X = sm.add_constant(X)                 # Se agrega una intercepción (beta_0) al modelo\n",
    "y = dt[\"y\"]                            # Y: normalmente significa la variable respuesta (o variable dependiente)\n",
    "\n",
    "# Para encajar en el modelo\n",
    "\n",
    "mod1 = sm.OLS(y, X).fit()              # sm.OLS(respuesta, entrada)\n",
    "predictions = mod1.predict(X)"
   ]
  },
  {
   "cell_type": "markdown",
   "metadata": {},
   "source": [
    "**6). Resumen del modelo ajustado:**"
   ]
  },
  {
   "cell_type": "code",
   "execution_count": 45,
   "metadata": {},
   "outputs": [
    {
     "data": {
      "text/html": [
       "<table class=\"simpletable\">\n",
       "<caption>OLS Regression Results</caption>\n",
       "<tr>\n",
       "  <th>Dep. Variable:</th>            <td>y</td>        <th>  R-squared:         </th> <td>   0.930</td>\n",
       "</tr>\n",
       "<tr>\n",
       "  <th>Model:</th>                   <td>OLS</td>       <th>  Adj. R-squared:    </th> <td>   0.927</td>\n",
       "</tr>\n",
       "<tr>\n",
       "  <th>Method:</th>             <td>Least Squares</td>  <th>  F-statistic:       </th> <td>   307.8</td>\n",
       "</tr>\n",
       "<tr>\n",
       "  <th>Date:</th>             <td>Sun, 02 Jun 2019</td> <th>  Prob (F-statistic):</th> <td>8.22e-15</td>\n",
       "</tr>\n",
       "<tr>\n",
       "  <th>Time:</th>                 <td>13:15:51</td>     <th>  Log-Likelihood:    </th> <td> -70.197</td>\n",
       "</tr>\n",
       "<tr>\n",
       "  <th>No. Observations:</th>      <td>    25</td>      <th>  AIC:               </th> <td>   144.4</td>\n",
       "</tr>\n",
       "<tr>\n",
       "  <th>Df Residuals:</th>          <td>    23</td>      <th>  BIC:               </th> <td>   146.8</td>\n",
       "</tr>\n",
       "<tr>\n",
       "  <th>Df Model:</th>              <td>     1</td>      <th>                     </th>     <td> </td>   \n",
       "</tr>\n",
       "<tr>\n",
       "  <th>Covariance Type:</th>      <td>nonrobust</td>    <th>                     </th>     <td> </td>   \n",
       "</tr>\n",
       "</table>\n",
       "<table class=\"simpletable\">\n",
       "<tr>\n",
       "    <td></td>       <th>coef</th>     <th>std err</th>      <th>t</th>      <th>P>|t|</th>  <th>[0.025</th>    <th>0.975]</th>  \n",
       "</tr>\n",
       "<tr>\n",
       "  <th>const</th> <td>    3.3208</td> <td>    1.371</td> <td>    2.422</td> <td> 0.024</td> <td>    0.484</td> <td>    6.157</td>\n",
       "</tr>\n",
       "<tr>\n",
       "  <th>x1</th>    <td>    2.1762</td> <td>    0.124</td> <td>   17.546</td> <td> 0.000</td> <td>    1.920</td> <td>    2.433</td>\n",
       "</tr>\n",
       "</table>\n",
       "<table class=\"simpletable\">\n",
       "<tr>\n",
       "  <th>Omnibus:</th>       <td> 2.383</td> <th>  Durbin-Watson:     </th> <td>   0.946</td>\n",
       "</tr>\n",
       "<tr>\n",
       "  <th>Prob(Omnibus):</th> <td> 0.304</td> <th>  Jarque-Bera (JB):  </th> <td>   1.037</td>\n",
       "</tr>\n",
       "<tr>\n",
       "  <th>Skew:</th>          <td> 0.388</td> <th>  Prob(JB):          </th> <td>   0.595</td>\n",
       "</tr>\n",
       "<tr>\n",
       "  <th>Kurtosis:</th>      <td> 3.627</td> <th>  Cond. No.          </th> <td>    18.2</td>\n",
       "</tr>\n",
       "</table><br/><br/>Warnings:<br/>[1] Standard Errors assume that the covariance matrix of the errors is correctly specified."
      ],
      "text/plain": [
       "<class 'statsmodels.iolib.summary.Summary'>\n",
       "\"\"\"\n",
       "                            OLS Regression Results                            \n",
       "==============================================================================\n",
       "Dep. Variable:                      y   R-squared:                       0.930\n",
       "Model:                            OLS   Adj. R-squared:                  0.927\n",
       "Method:                 Least Squares   F-statistic:                     307.8\n",
       "Date:                Sun, 02 Jun 2019   Prob (F-statistic):           8.22e-15\n",
       "Time:                        13:15:51   Log-Likelihood:                -70.197\n",
       "No. Observations:                  25   AIC:                             144.4\n",
       "Df Residuals:                      23   BIC:                             146.8\n",
       "Df Model:                           1                                         \n",
       "Covariance Type:            nonrobust                                         \n",
       "==============================================================================\n",
       "                 coef    std err          t      P>|t|      [0.025      0.975]\n",
       "------------------------------------------------------------------------------\n",
       "const          3.3208      1.371      2.422      0.024       0.484       6.157\n",
       "x1             2.1762      0.124     17.546      0.000       1.920       2.433\n",
       "==============================================================================\n",
       "Omnibus:                        2.383   Durbin-Watson:                   0.946\n",
       "Prob(Omnibus):                  0.304   Jarque-Bera (JB):                1.037\n",
       "Skew:                           0.388   Prob(JB):                        0.595\n",
       "Kurtosis:                       3.627   Cond. No.                         18.2\n",
       "==============================================================================\n",
       "\n",
       "Warnings:\n",
       "[1] Standard Errors assume that the covariance matrix of the errors is correctly specified.\n",
       "\"\"\""
      ]
     },
     "execution_count": 45,
     "metadata": {},
     "output_type": "execute_result"
    }
   ],
   "source": [
    "mod1.summary()                         # Imprime las estadísticas"
   ]
  },
  {
   "cell_type": "code",
   "execution_count": 46,
   "metadata": {},
   "outputs": [
    {
     "name": "stdout",
     "output_type": "stream",
     "text": [
      "Los errores estándar asumen que la matriz de covarianza de los errores está correctamente especificada.\n"
     ]
    }
   ],
   "source": [
    "print(\"Los errores estándar asumen que la matriz de covarianza de los errores está correctamente especificada.\")"
   ]
  },
  {
   "cell_type": "markdown",
   "metadata": {},
   "source": [
    "**7). Ajustar el modelo por medio de fórmulas:**\n",
    "\n",
    "Para ésto, se usa **statsmodels.formula.api**."
   ]
  },
  {
   "cell_type": "code",
   "execution_count": 47,
   "metadata": {},
   "outputs": [],
   "source": [
    "mod2 = smf.ols('y ~ x1', data=dt).fit()   # Ajusta el modelo de regresión usando el registro natural de uno de los regresores"
   ]
  },
  {
   "cell_type": "markdown",
   "metadata": {},
   "source": [
    "**8). Obtener el resumen de formulas del modelo ajustado:**"
   ]
  },
  {
   "cell_type": "code",
   "execution_count": 49,
   "metadata": {
    "scrolled": true
   },
   "outputs": [
    {
     "name": "stdout",
     "output_type": "stream",
     "text": [
      "                            OLS Regression Results                            \n",
      "==============================================================================\n",
      "Dep. Variable:                      y   R-squared:                       0.930\n",
      "Model:                            OLS   Adj. R-squared:                  0.927\n",
      "Method:                 Least Squares   F-statistic:                     307.8\n",
      "Date:                Sun, 02 Jun 2019   Prob (F-statistic):           8.22e-15\n",
      "Time:                        13:21:23   Log-Likelihood:                -70.197\n",
      "No. Observations:                  25   AIC:                             144.4\n",
      "Df Residuals:                      23   BIC:                             146.8\n",
      "Df Model:                           1                                         \n",
      "Covariance Type:            nonrobust                                         \n",
      "==============================================================================\n",
      "                 coef    std err          t      P>|t|      [0.025      0.975]\n",
      "------------------------------------------------------------------------------\n",
      "Intercept      3.3208      1.371      2.422      0.024       0.484       6.157\n",
      "x1             2.1762      0.124     17.546      0.000       1.920       2.433\n",
      "==============================================================================\n",
      "Omnibus:                        2.383   Durbin-Watson:                   0.946\n",
      "Prob(Omnibus):                  0.304   Jarque-Bera (JB):                1.037\n",
      "Skew:                           0.388   Prob(JB):                        0.595\n",
      "Kurtosis:                       3.627   Cond. No.                         18.2\n",
      "==============================================================================\n",
      "\n",
      "Warnings:\n",
      "[1] Standard Errors assume that the covariance matrix of the errors is correctly specified.\n"
     ]
    }
   ],
   "source": [
    "print(mod2.summary())"
   ]
  },
  {
   "cell_type": "markdown",
   "metadata": {},
   "source": [
    "**9). Agregar la recta de regresión estimada:**\n"
   ]
  },
  {
   "cell_type": "code",
   "execution_count": 50,
   "metadata": {},
   "outputs": [
    {
     "data": {
      "image/png": "[encoded data removed]",
      "text/plain": [
       "<Figure size 576x432 with 1 Axes>"
      ]
     },
     "metadata": {
      "needs_background": "light"
     },
     "output_type": "display_data"
    }
   ],
   "source": [
    "fig, ax = plt.subplots(figsize=(8,6))                                    # Ajuste del gráfico\n",
    "ax.plot(dt[\"x1\"] , dt[\"y\"] , 'o', label=\"Datos\")                         # Ajuste para las etiquetas del gráfico\n",
    "ax.plot(dt[\"x1\"], mod2.fittedvalues, 'r--.', label=\"Ajustado\")           # Ajuste para las etiquetas del gráfico\n",
    "legend = ax.legend(loc=\"best\")                                           # Ajustes para las leyendas del gráfico\n",
    "plt.xlabel('Cantidad de cajas')                                          # Etiqueta del eje X\n",
    "plt.ylabel('Tiempo (min)')                                               # Etiqueta del eje Y\n",
    "plt.title('Diagrama de dispersión con la recta del modelo ajustado');    # Título del gráfico"
   ]
  },
  {
   "cell_type": "markdown",
   "metadata": {},
   "source": [
    "**Fuente:** la base de datos utilizada son del ejemplo 2.1 del libro de Montgomery, Peck and Vining (2003). Además, dicha base se encuentra alojada en el Github del profesor Freddy Hernández Barajas, https://github.com/fhernanb. "
   ]
  },
  {
   "cell_type": "markdown",
   "metadata": {},
   "source": [
    "**Documento creado por Yuberth Anderson Saavedra Coneo, durante el curso Análisis de Regresión de la Universidad Nacional de Colombia sede Medellín**."
   ]
  }
 ],
 "metadata": {
  "kernelspec": {
   "display_name": "Python 3",
   "language": "python",
   "name": "python3"
  },
  "language_info": {
   "codemirror_mode": {
    "name": "ipython",
    "version": 3
   },
   "file_extension": ".py",
   "mimetype": "text/x-python",
   "name": "python",
   "nbconvert_exporter": "python",
   "pygments_lexer": "ipython3",
   "version": "3.7.1"
  }
 },
 "nbformat": 4,
 "nbformat_minor": 2
}
